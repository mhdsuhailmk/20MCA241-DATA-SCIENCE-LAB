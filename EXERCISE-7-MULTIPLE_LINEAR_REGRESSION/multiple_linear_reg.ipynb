from sklearn.linear_model import LinearRegression
from sklearn.metrics import r2_score
from sklearn.model_selection import train_test_split
import matplotlib.pyplot as plt
import pandas as pd
import numpy as np


df = pd.read_csv('power.csv')

#print(df)


x = df.drop(['PE'],axis=1).values
#print(x)

y = df['PE'].values
#print(y)

ML = LinearRegression()

X_train,X_test,y_train,y_test = train_test_split(x,y,test_size=0.2,random_state=1)


ML.fit(X_train,y_train)

y_pred = ML.predict(X_test)

print("R2 Score",+ r2_score(y_test,y_pred))


plt.figure(figsize=(15,15))
plt.scatter(y_pred,y_test)
plt.show()


pred_y_df = pd.DataFrame({'actual values':y_test,'predicted values':y_pred,'Difference':y_test-y_pred})
pred_y_df
